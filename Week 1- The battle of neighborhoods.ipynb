{
 "cells": [
  {
   "cell_type": "markdown",
   "metadata": {},
   "source": [
    "# Peer-graded Assignment: Capstone Project - The Battle of Neighborhoods (Week 1)"
   ]
  },
  {
   "cell_type": "markdown",
   "metadata": {},
   "source": [
    " **A description of the problem and a discussion of the background (Introduction/Business Problem)**"
   ]
  },
  {
   "cell_type": "markdown",
   "metadata": {},
   "source": [
    "For my capstone project, I will refer to the venues in London to make a suitable evaluation through data analysis to determine which cities I would find myself a good location to start my future prospect with. With this, I refer to data that I can obtain from Doogal to start my database and have a greater understanding to determine which cities is best suitable for me. \n",
    "\n",
    "From the business perspective, my project will be about projecting into a map all the London's Wards, as to have the data available for future investment projections and to detect areas of opportunity to open a cafe-restaurant. On a second point, I'll be using that data and the post codes to detect the venues geographical concentration and detect areas where business hasn't developed as well, and to detect the best area to open any kind of business, considering a positive correlation between actual presence of any kind of specific business and its future success."
   ]
  },
  {
   "cell_type": "markdown",
   "metadata": {},
   "source": [
    "**A description of the data and how it will be used to solve the problem (Data section)**"
   ]
  },
  {
   "cell_type": "markdown",
   "metadata": {},
   "source": [
    "I obtained the data from Doogal, which has many databases about U.K. (mainly about postcodes and maps). Firstly, I will filter the necessary data to accomplish the defined goals, before I geotag all the obtained geographical coordinates through the geopy library. Secondly, after having all the information available, I plotted all the Wards (to verify the data) and to detect dispersion and over-abundance of the various wards.\n",
    "\n",
    "Finally, I continued to create a database of local venues with the concentration on the city centre which includes having them dispersed to a limit of 100 and a radius of 1000. In this way, I can detect and plot the venue geographical dispersion, by evaluating the ubication of a prospect business.However the analysis of the physical presence in the the types of venues through geographical section will not be analysed but instead , this gives us which kind of business will have the most impact. Lastly, I plotted in a bar-graph the business presence within the city's centre which we can see clearly to determine the choices. "
   ]
  },
  {
   "cell_type": "markdown",
   "metadata": {},
   "source": [
    "-E"
   ]
  }
 ],
 "metadata": {
  "kernelspec": {
   "display_name": "Python 3",
   "language": "python",
   "name": "python3"
  },
  "language_info": {
   "codemirror_mode": {
    "name": "ipython",
    "version": 3
   },
   "file_extension": ".py",
   "mimetype": "text/x-python",
   "name": "python",
   "nbconvert_exporter": "python",
   "pygments_lexer": "ipython3",
   "version": "3.7.6"
  }
 },
 "nbformat": 4,
 "nbformat_minor": 4
}
